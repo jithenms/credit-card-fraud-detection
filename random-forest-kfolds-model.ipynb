{
 "cells": [
  {
   "cell_type": "code",
   "execution_count": 1,
   "id": "a67a683e",
   "metadata": {},
   "outputs": [],
   "source": [
    "import pandas as pd\n",
    "import numpy as np\n",
    "import matplotlib.pyplot as plt\n",
    "import seaborn as sns"
   ]
  },
  {
   "cell_type": "code",
   "execution_count": 2,
   "id": "25737e2d",
   "metadata": {},
   "outputs": [],
   "source": [
    "fraud_train_raw = pd.read_csv('./data/fraudTrain.csv')\n",
    "fraud_test_raw = pd.read_csv('./data/fraudTest.csv')"
   ]
  },
  {
   "cell_type": "code",
   "execution_count": 3,
   "id": "584f7642",
   "metadata": {},
   "outputs": [],
   "source": [
    "fraud_train = fraud_train_raw.copy()\n",
    "fraud_test = fraud_test_raw.copy()"
   ]
  },
  {
   "cell_type": "code",
   "execution_count": 4,
   "id": "638ee17b",
   "metadata": {},
   "outputs": [
    {
     "data": {
      "text/plain": [
       "(1296675, 23)"
      ]
     },
     "execution_count": 4,
     "metadata": {},
     "output_type": "execute_result"
    }
   ],
   "source": [
    "fraud_train.shape"
   ]
  },
  {
   "cell_type": "code",
   "execution_count": 5,
   "id": "1da40d1c",
   "metadata": {},
   "outputs": [
    {
     "data": {
      "text/plain": [
       "Unnamed: 0               0\n",
       "trans_date_trans_time    0\n",
       "cc_num                   0\n",
       "merchant                 0\n",
       "category                 0\n",
       "amt                      0\n",
       "first                    0\n",
       "last                     0\n",
       "gender                   0\n",
       "street                   0\n",
       "city                     0\n",
       "state                    0\n",
       "zip                      0\n",
       "lat                      0\n",
       "long                     0\n",
       "city_pop                 0\n",
       "job                      0\n",
       "dob                      0\n",
       "trans_num                0\n",
       "unix_time                0\n",
       "merch_lat                0\n",
       "merch_long               0\n",
       "is_fraud                 0\n",
       "dtype: int64"
      ]
     },
     "execution_count": 5,
     "metadata": {},
     "output_type": "execute_result"
    }
   ],
   "source": [
    "fraud_train.isnull().sum()"
   ]
  },
  {
   "cell_type": "code",
   "execution_count": 6,
   "id": "1824a266",
   "metadata": {},
   "outputs": [
    {
     "data": {
      "text/plain": [
       "Index(['Unnamed: 0', 'trans_date_trans_time', 'cc_num', 'merchant', 'category',\n",
       "       'amt', 'first', 'last', 'gender', 'street', 'city', 'state', 'zip',\n",
       "       'lat', 'long', 'city_pop', 'job', 'dob', 'trans_num', 'unix_time',\n",
       "       'merch_lat', 'merch_long', 'is_fraud'],\n",
       "      dtype='object')"
      ]
     },
     "execution_count": 6,
     "metadata": {},
     "output_type": "execute_result"
    }
   ],
   "source": [
    "fraud_train.columns"
   ]
  },
  {
   "cell_type": "markdown",
   "id": "3466d9b4",
   "metadata": {},
   "source": [
    "### Feature Engineering"
   ]
  },
  {
   "cell_type": "markdown",
   "id": "c2d11cb2",
   "metadata": {},
   "source": [
    "#### Training Data"
   ]
  },
  {
   "cell_type": "code",
   "execution_count": 7,
   "id": "5032ec43",
   "metadata": {},
   "outputs": [],
   "source": [
    "Time = pd.crosstab(fraud_train['unix_time'], fraud_train['is_fraud'])\n",
    "time_bin = [0,1330000000,1350000000,1380000000]\n",
    "time_groups = ['Morning','Evening', 'Night']\n",
    "fraud_train['Time_Bin'] = pd.cut(fraud_train['unix_time'], time_bin, labels = time_groups)"
   ]
  },
  {
   "cell_type": "code",
   "execution_count": 8,
   "id": "588801a5",
   "metadata": {},
   "outputs": [],
   "source": [
    "Amt = pd.crosstab(fraud_train['amt'], fraud_train['is_fraud'])\n",
    "amt_bin = [0,100,1000,30000]\n",
    "amt_groups = ['Average','Above Average', 'High']\n",
    "fraud_train['Amt_Bin'] = pd.cut(fraud_train['amt'], amt_bin, labels = amt_groups)"
   ]
  },
  {
   "cell_type": "code",
   "execution_count": 9,
   "id": "30173c52",
   "metadata": {},
   "outputs": [],
   "source": [
    "fraud_train['dob'] = fraud_train['dob'].astype('datetime64[ns]')\n",
    "DOB = pd.crosstab(fraud_train['dob'], fraud_train['is_fraud'])\n",
    "dob_bin = [fraud_train['dob'].min(), fraud_train['dob'].mean(), fraud_train['dob'].max()]\n",
    "dob_groups = ['Adult', 'Young Adult']\n",
    "fraud_train['Dob_Bin'] = pd.cut(fraud_train['dob'], dob_bin, labels = dob_groups)"
   ]
  },
  {
   "cell_type": "markdown",
   "id": "20fd6e75",
   "metadata": {},
   "source": [
    "#### Testing Data"
   ]
  },
  {
   "cell_type": "code",
   "execution_count": 10,
   "id": "c6168ccc",
   "metadata": {},
   "outputs": [],
   "source": [
    "Time = pd.crosstab(fraud_test['unix_time'], fraud_test['is_fraud'])\n",
    "time_bin = [0,1330000000,1350000000,1380000000]\n",
    "time_groups = ['Morning','Evening', 'Night']\n",
    "fraud_test['Time_Bin'] = pd.cut(fraud_test['unix_time'], time_bin, labels = time_groups)"
   ]
  },
  {
   "cell_type": "code",
   "execution_count": 11,
   "id": "ade04952",
   "metadata": {},
   "outputs": [],
   "source": [
    "Amt = pd.crosstab(fraud_test['amt'], fraud_test['is_fraud'])\n",
    "amt_bin = [0,100,1000,30000]\n",
    "amt_groups = ['Average','Above Average', 'High']\n",
    "fraud_test['Amt_Bin'] = pd.cut(fraud_test['amt'], amt_bin, labels = amt_groups)"
   ]
  },
  {
   "cell_type": "code",
   "execution_count": 12,
   "id": "cc0138c3",
   "metadata": {},
   "outputs": [],
   "source": [
    "fraud_test['dob'] = fraud_test['dob'].astype('datetime64[ns]')\n",
    "DOB = pd.crosstab(fraud_test['dob'], fraud_test['is_fraud'])\n",
    "dob_bin = [fraud_test['dob'].min(), fraud_test['dob'].mean(), fraud_test['dob'].max()]\n",
    "dob_groups = ['Adult', 'Young Adult']\n",
    "fraud_test['Dob_Bin'] = pd.cut(fraud_test['dob'], dob_bin, labels = dob_groups)"
   ]
  },
  {
   "cell_type": "code",
   "execution_count": 22,
   "id": "16d58dc4",
   "metadata": {},
   "outputs": [
    {
     "data": {
      "text/plain": [
       "0          0\n",
       "1          0\n",
       "2          0\n",
       "3          0\n",
       "4          0\n",
       "          ..\n",
       "1296670    0\n",
       "1296671    0\n",
       "1296672    0\n",
       "1296673    0\n",
       "1296674    0\n",
       "Name: is_fraud, Length: 1296675, dtype: int64"
      ]
     },
     "execution_count": 22,
     "metadata": {},
     "output_type": "execute_result"
    }
   ],
   "source": [
    "fraud_train['is_fraud']"
   ]
  },
  {
   "cell_type": "code",
   "execution_count": 28,
   "id": "95378851",
   "metadata": {},
   "outputs": [
    {
     "data": {
      "text/plain": [
       "Unnamed: 0                                                       519212454\n",
       "trans_date_trans_time    2020-06-21 22:06:392020-06-21 22:32:222020-06-...\n",
       "cc_num                                                -3361636627378355060\n",
       "merchant                 fraud_Hamill-D'Amorefraud_Rodriguez, Yost and ...\n",
       "category                 health_fitnessmisc_netentertainmentshopping_ne...\n",
       "amt                                                             1133324.68\n",
       "first                    BrookeDouglasDouglasWilliamBrookeAshleyWilliam...\n",
       "last                     SmithWillisWillisPerrySmithCabreraPerryPerryPe...\n",
       "gender                   FMMMFFMMMMMFMFMFFFMFFFMMMMMMMFMMMFMFFFFFFMFFFM...\n",
       "street                   63542 Luna Brook Apt. 012619 Jeremy Garden Apt...\n",
       "city                     NotreesBentonBentonDenham SpringsNotreesVero B...\n",
       "state                    TXWIWILATXFLLALALAWILAFLLAFLLAFLFLFLLAFLFLFLNY...\n",
       "zip                                                              102665921\n",
       "lat                                                             83697.8384\n",
       "long                                                          -194005.7182\n",
       "city_pop                                                         138415395\n",
       "job                      CytogeneticistPublic relations officerPublic r...\n",
       "trans_num                16bf2e46c54369a8eab2214649506425ab4b379d2c0c9c...\n",
       "unix_time                                                    2959214422207\n",
       "merch_lat                                                     83694.936676\n",
       "merch_long                                                  -194047.901514\n",
       "is_fraud                                                              2145\n",
       "dtype: object"
      ]
     },
     "execution_count": 28,
     "metadata": {},
     "output_type": "execute_result"
    }
   ],
   "source": [
    "fraud_test[fraud_test['is_fraud'] ==1].sum()"
   ]
  },
  {
   "cell_type": "code",
   "execution_count": 14,
   "id": "26211960",
   "metadata": {},
   "outputs": [],
   "source": [
    "X_train = fraud_train.drop(['trans_date_trans_time', 'cc_num', 'merchant', 'amt', \n",
    "                      'first', 'last', 'dob', 'job', 'city', 'state', 'street', 'trans_num', 'unix_time', 'is_fraud'], axis=1)\n",
    "\n",
    "X_train = pd.get_dummies(X_train)\n",
    "\n",
    "y_train = fraud_train['is_fraud']\n",
    "\n",
    "X_test = fraud_test.drop(['trans_date_trans_time', 'cc_num', 'merchant', 'amt', \n",
    "                      'first', 'last', 'dob', 'job', 'city', 'state', 'street', 'trans_num', 'unix_time', 'is_fraud'], axis=1)\n",
    "\n",
    "X_test = pd.get_dummies(X_test)\n",
    "\n",
    "y_test = fraud_test['is_fraud']"
   ]
  },
  {
   "cell_type": "code",
   "execution_count": 47,
   "id": "62397aff",
   "metadata": {},
   "outputs": [
    {
     "name": "stdout",
     "output_type": "stream",
     "text": [
      "1 of kfold 5\n",
      "0.9942121194593865 accuracy\n",
      "0.005787880540613492 mean square error\n",
      "2 of kfold 5\n",
      "0.9942121194593865 accuracy\n",
      "0.005787880540613492 mean square error\n",
      "3 of kfold 5\n",
      "0.9942121194593865 accuracy\n",
      "0.005787880540613492 mean square error\n",
      "4 of kfold 5\n",
      "0.9942121194593865 accuracy\n",
      "0.005787880540613492 mean square error\n",
      "5 of kfold 5\n",
      "0.994208263443037 accuracy\n",
      "0.005791736556963001 mean square error\n"
     ]
    }
   ],
   "source": [
    "from sklearn.ensemble import RandomForestClassifier\n",
    "from sklearn.model_selection import StratifiedKFold\n",
    "from sklearn.metrics import accuracy_score\n",
    "from sklearn.metrics import mean_squared_error\n",
    "from sklearn.metrics import plot_confusion_matrix\n",
    "from sklearn import metrics\n",
    "\n",
    "skf = StratifiedKFold(n_splits=5)\n",
    "i = 1\n",
    "\n",
    "for train_index, test_index in skf.split(X_train, y_train):\n",
    "    print(f'{i} of kfold {skf.n_splits}')\n",
    "    X_tr, X_val = X_train.iloc[train_index], X_train.iloc[test_index]\n",
    "    y_tr, y_val = y_train.iloc[train_index], y_train.iloc[test_index]\n",
    "    clf = RandomForestClassifier(max_depth=2, random_state=0)\n",
    "    clf.fit(X_tr, y_tr)\n",
    "    clf_pred = clf.predict(X_val)\n",
    "    clf_score = accuracy_score(y_val, clf_pred)\n",
    "    clf_prob = clf.predict_proba(X_val)[:,1]\n",
    "    print(clf_score, 'accuracy')\n",
    "    print(mean_squared_error(y_val, clf_pred), 'mean square error')\n",
    "    i+=1"
   ]
  },
  {
   "cell_type": "code",
   "execution_count": 48,
   "id": "3a54f6bd",
   "metadata": {},
   "outputs": [
    {
     "data": {
      "image/png": "[encoded data removed]",
      "text/plain": [
       "<Figure size 432x288 with 2 Axes>"
      ]
     },
     "metadata": {
      "needs_background": "light"
     },
     "output_type": "display_data"
    }
   ],
   "source": [
    "plot_confusion_matrix(clf, X_val, y_val)  \n",
    "plt.show()  "
   ]
  },
  {
   "cell_type": "code",
   "execution_count": 49,
   "id": "1d0c8b3d",
   "metadata": {},
   "outputs": [
    {
     "data": {
      "image/png": "[encoded data removed]",
      "text/plain": [
       "<Figure size 432x288 with 1 Axes>"
      ]
     },
     "metadata": {
      "needs_background": "light"
     },
     "output_type": "display_data"
    },
    {
     "name": "stdout",
     "output_type": "stream",
     "text": [
      "AUC score is 0.563102728170496\n",
      "Accuracy of the model is 0.994208263443037\n"
     ]
    }
   ],
   "source": [
    "clf_fpr, clf_tpr, _ = metrics.roc_curve(y_val, clf_prob, pos_label=1)\n",
    "clf_auc = metrics.roc_auc_score(y_val, clf_prob)\n",
    "\n",
    "plt.plot(clf_fpr, clf_tpr, label=\"validation\")\n",
    "plt.xlabel('False Positive Rate') \n",
    "plt.ylabel('True Positive Rate') \n",
    "plt.legend(loc=4) \n",
    "plt.show()\n",
    "print(f\"AUC score is {clf_auc}\")\n",
    "print(f\"Accuracy of the model is {clf_score}\")"
   ]
  },
  {
   "cell_type": "code",
   "execution_count": 51,
   "id": "70cfb623",
   "metadata": {},
   "outputs": [],
   "source": [
    "y_pred = clf.predict(X_test)"
   ]
  },
  {
   "cell_type": "code",
   "execution_count": 52,
   "id": "0a090416",
   "metadata": {},
   "outputs": [],
   "source": [
    "pred_score = accuracy_score(y_test, y_pred)"
   ]
  },
  {
   "cell_type": "code",
   "execution_count": 54,
   "id": "367d5942",
   "metadata": {},
   "outputs": [
    {
     "name": "stdout",
     "output_type": "stream",
     "text": [
      "0.9961401355721147 accuracy on test data\n"
     ]
    }
   ],
   "source": [
    "print(pred_score, 'accuracy on test data')"
   ]
  },
  {
   "cell_type": "code",
   "execution_count": null,
   "id": "053a572c",
   "metadata": {},
   "outputs": [],
   "source": []
  },
  {
   "cell_type": "code",
   "execution_count": null,
   "id": "9a323607",
   "metadata": {},
   "outputs": [],
   "source": []
  }
 ],
 "metadata": {
  "kernelspec": {
   "display_name": "Python 3",
   "language": "python",
   "name": "python3"
  },
  "language_info": {
   "codemirror_mode": {
    "name": "ipython",
    "version": 3
   },
   "file_extension": ".py",
   "mimetype": "text/x-python",
   "name": "python",
   "nbconvert_exporter": "python",
   "pygments_lexer": "ipython3",
   "version": "3.9.5"
  }
 },
 "nbformat": 4,
 "nbformat_minor": 5
}
